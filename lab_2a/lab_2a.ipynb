{
 "cells": [
  {
   "cell_type": "code",
   "execution_count": null,
   "id": "fd1668e9-556e-47bb-8482-92ff919aeb95",
   "metadata": {},
   "outputs": [],
   "source": []
  },
  {
   "cell_type": "code",
   "execution_count": 10,
   "id": "252e7d85-431c-49af-9e6a-5df4f6383f88",
   "metadata": {},
   "outputs": [],
   "source": [
    "import numpy as np\n",
    "import pandas as pd\n",
    "from matplotlib import pyplot as plt\n"
   ]
  },
  {
   "cell_type": "code",
   "execution_count": 2,
   "id": "074276b1-e4f4-4256-8eb5-217e5d3bdf9f",
   "metadata": {},
   "outputs": [],
   "source": [
    "U =[1.8,\n",
    "   1.8,\n",
    "   2.6,\n",
    "   3.3,\n",
    "   1.4,\n",
    "   1.9,\n",
    "   1.4,\n",
    "   1.6,\n",
    "   2.7,\n",
    "   2,\n",
    "   2.5,\n",
    "    2.4,\n",
    "   3.2,\n",
    "   2.2,\n",
    "   2.6,\n",
    "   2.7,\n",
    "   1.6,\n",
    "   2.3,\n",
    "   2.4,\n",
    "   1.3]"
   ]
  },
  {
   "cell_type": "code",
   "execution_count": 5,
   "id": "d8e438a3-e6bc-435e-b7b4-2d919fc8cbd8",
   "metadata": {},
   "outputs": [],
   "source": [
    "I = 2.5\n",
    "R =[644+4*x/I for x in U]"
   ]
  },
  {
   "cell_type": "code",
   "execution_count": 6,
   "id": "032df242-1523-4e6a-ad31-26f9b1c59f4c",
   "metadata": {},
   "outputs": [
    {
     "data": {
      "text/plain": [
       "[646.88,\n",
       " 646.88,\n",
       " 648.16,\n",
       " 649.28,\n",
       " 646.24,\n",
       " 647.04,\n",
       " 646.24,\n",
       " 646.56,\n",
       " 648.32,\n",
       " 647.2,\n",
       " 648.0,\n",
       " 647.84,\n",
       " 649.12,\n",
       " 647.52,\n",
       " 648.16,\n",
       " 648.32,\n",
       " 646.56,\n",
       " 647.68,\n",
       " 647.84,\n",
       " 646.08]"
      ]
     },
     "execution_count": 6,
     "metadata": {},
     "output_type": "execute_result"
    }
   ],
   "source": [
    "R"
   ]
  },
  {
   "cell_type": "code",
   "execution_count": 13,
   "id": "aecf3bd0-a7d0-49e3-8cf3-8a343505d82f",
   "metadata": {},
   "outputs": [],
   "source": [
    "nR = np.array(R)\n"
   ]
  },
  {
   "cell_type": "code",
   "execution_count": 20,
   "id": "2022e96e-a3ce-4bb7-98ef-70ab29222ffe",
   "metadata": {},
   "outputs": [
    {
     "data": {
      "text/plain": [
       "647.5"
      ]
     },
     "execution_count": 20,
     "metadata": {},
     "output_type": "execute_result"
    }
   ],
   "source": [
    "mean_R = round(np.mean(nR),2)\n",
    "mean_R"
   ]
  },
  {
   "cell_type": "code",
   "execution_count": 21,
   "id": "15fc5f11-bd81-4c90-88a9-1e2b036ca912",
   "metadata": {},
   "outputs": [],
   "source": [
    "col_2 =[round((x - mean_R),2) for x in R]\n"
   ]
  },
  {
   "cell_type": "code",
   "execution_count": 22,
   "id": "2ffce306-9c37-417b-bef7-a1d0a8a8deba",
   "metadata": {},
   "outputs": [
    {
     "data": {
      "text/plain": [
       "[-0.62,\n",
       " -0.62,\n",
       " 0.66,\n",
       " 1.78,\n",
       " -1.26,\n",
       " -0.46,\n",
       " -1.26,\n",
       " -0.94,\n",
       " 0.82,\n",
       " -0.3,\n",
       " 0.5,\n",
       " 0.34,\n",
       " 1.62,\n",
       " 0.02,\n",
       " 0.66,\n",
       " 0.82,\n",
       " -0.94,\n",
       " 0.18,\n",
       " 0.34,\n",
       " -1.42]"
      ]
     },
     "execution_count": 22,
     "metadata": {},
     "output_type": "execute_result"
    }
   ],
   "source": [
    "col_2"
   ]
  },
  {
   "cell_type": "code",
   "execution_count": null,
   "id": "24f49c65-c75c-4f71-9eac-a4e8be2cccd4",
   "metadata": {},
   "outputs": [],
   "source": []
  },
  {
   "cell_type": "code",
   "execution_count": 26,
   "id": "bed71a51-dbcd-46ea-b16b-b928efa43667",
   "metadata": {},
   "outputs": [],
   "source": [
    "col_3 =[round((x - mean_R)**2,2) for x in R]\n"
   ]
  },
  {
   "cell_type": "code",
   "execution_count": 24,
   "id": "e04e7a9b-c308-4eeb-bf95-d8b227db8b41",
   "metadata": {},
   "outputs": [
    {
     "data": {
      "text/plain": [
       "[0.38,\n",
       " 0.38,\n",
       " 0.44,\n",
       " 3.17,\n",
       " 1.59,\n",
       " 0.21,\n",
       " 1.59,\n",
       " 0.88,\n",
       " 0.67,\n",
       " 0.09,\n",
       " 0.25,\n",
       " 0.12,\n",
       " 2.62,\n",
       " 0.0,\n",
       " 0.44,\n",
       " 0.67,\n",
       " 0.88,\n",
       " 0.03,\n",
       " 0.12,\n",
       " 2.02]"
      ]
     },
     "execution_count": 24,
     "metadata": {},
     "output_type": "execute_result"
    }
   ],
   "source": [
    "col_3"
   ]
  },
  {
   "cell_type": "code",
   "execution_count": 27,
   "id": "31c1ce90-2aea-4345-939a-7a9849ef9a10",
   "metadata": {},
   "outputs": [],
   "source": [
    "col_4 =[round((x - mean_R)**3,2) for x in R]\n"
   ]
  },
  {
   "cell_type": "code",
   "execution_count": 28,
   "id": "d02e3dc9-11ff-43f6-8493-d00ff3ec9948",
   "metadata": {},
   "outputs": [
    {
     "data": {
      "text/plain": [
       "[-0.24,\n",
       " -0.24,\n",
       " 0.29,\n",
       " 5.64,\n",
       " -2.0,\n",
       " -0.1,\n",
       " -2.0,\n",
       " -0.83,\n",
       " 0.55,\n",
       " -0.03,\n",
       " 0.12,\n",
       " 0.04,\n",
       " 4.25,\n",
       " 0.0,\n",
       " 0.29,\n",
       " 0.55,\n",
       " -0.83,\n",
       " 0.01,\n",
       " 0.04,\n",
       " -2.86]"
      ]
     },
     "execution_count": 28,
     "metadata": {},
     "output_type": "execute_result"
    }
   ],
   "source": [
    "col_4"
   ]
  },
  {
   "cell_type": "code",
   "execution_count": 29,
   "id": "c2546e89-47a9-41d8-a91f-5a407bdca4a7",
   "metadata": {},
   "outputs": [
    {
     "data": {
      "text/plain": [
       "[0.15,\n",
       " 0.15,\n",
       " 0.19,\n",
       " 10.04,\n",
       " 2.52,\n",
       " 0.04,\n",
       " 2.52,\n",
       " 0.78,\n",
       " 0.45,\n",
       " 0.01,\n",
       " 0.06,\n",
       " 0.01,\n",
       " 6.89,\n",
       " 0.0,\n",
       " 0.19,\n",
       " 0.45,\n",
       " 0.78,\n",
       " 0.0,\n",
       " 0.01,\n",
       " 4.07]"
      ]
     },
     "execution_count": 29,
     "metadata": {},
     "output_type": "execute_result"
    }
   ],
   "source": [
    "col_5 =[round((x - mean_R)**4,2) for x in R]\n",
    "\n",
    "col_5"
   ]
  },
  {
   "cell_type": "code",
   "execution_count": 30,
   "id": "6dff49da-af36-4ece-8568-eff79c9ed72e",
   "metadata": {},
   "outputs": [],
   "source": [
    "df = pd.DataFrame(\n",
    "    {'Ui':U,\n",
    "    'Rxi':R,\n",
    "    'Rxi-<R>':col_2,\n",
    "    '(Rxi-<R>)^2':col_3,\n",
    "    '(Rxi-<R>)^3':col_4,\n",
    "    '(Rxi-<R>)^4':col_5}\n",
    ")\n"
   ]
  },
  {
   "cell_type": "code",
   "execution_count": 31,
   "id": "8f69ec46-82f4-443e-afd0-b4d367562be1",
   "metadata": {},
   "outputs": [
    {
     "data": {
      "text/html": [
       "<div>\n",
       "<style scoped>\n",
       "    .dataframe tbody tr th:only-of-type {\n",
       "        vertical-align: middle;\n",
       "    }\n",
       "\n",
       "    .dataframe tbody tr th {\n",
       "        vertical-align: top;\n",
       "    }\n",
       "\n",
       "    .dataframe thead th {\n",
       "        text-align: right;\n",
       "    }\n",
       "</style>\n",
       "<table border=\"1\" class=\"dataframe\">\n",
       "  <thead>\n",
       "    <tr style=\"text-align: right;\">\n",
       "      <th></th>\n",
       "      <th>Ui</th>\n",
       "      <th>Rxi</th>\n",
       "      <th>Rxi-&lt;R&gt;</th>\n",
       "      <th>(Rxi-&lt;R&gt;)^2</th>\n",
       "      <th>(Rxi-&lt;R&gt;)^3</th>\n",
       "      <th>(Rxi-&lt;R&gt;)^4</th>\n",
       "    </tr>\n",
       "  </thead>\n",
       "  <tbody>\n",
       "    <tr>\n",
       "      <th>0</th>\n",
       "      <td>1.8</td>\n",
       "      <td>646.88</td>\n",
       "      <td>-0.62</td>\n",
       "      <td>0.38</td>\n",
       "      <td>-0.24</td>\n",
       "      <td>0.15</td>\n",
       "    </tr>\n",
       "    <tr>\n",
       "      <th>1</th>\n",
       "      <td>1.8</td>\n",
       "      <td>646.88</td>\n",
       "      <td>-0.62</td>\n",
       "      <td>0.38</td>\n",
       "      <td>-0.24</td>\n",
       "      <td>0.15</td>\n",
       "    </tr>\n",
       "    <tr>\n",
       "      <th>2</th>\n",
       "      <td>2.6</td>\n",
       "      <td>648.16</td>\n",
       "      <td>0.66</td>\n",
       "      <td>0.44</td>\n",
       "      <td>0.29</td>\n",
       "      <td>0.19</td>\n",
       "    </tr>\n",
       "    <tr>\n",
       "      <th>3</th>\n",
       "      <td>3.3</td>\n",
       "      <td>649.28</td>\n",
       "      <td>1.78</td>\n",
       "      <td>3.17</td>\n",
       "      <td>5.64</td>\n",
       "      <td>10.04</td>\n",
       "    </tr>\n",
       "    <tr>\n",
       "      <th>4</th>\n",
       "      <td>1.4</td>\n",
       "      <td>646.24</td>\n",
       "      <td>-1.26</td>\n",
       "      <td>1.59</td>\n",
       "      <td>-2.00</td>\n",
       "      <td>2.52</td>\n",
       "    </tr>\n",
       "    <tr>\n",
       "      <th>5</th>\n",
       "      <td>1.9</td>\n",
       "      <td>647.04</td>\n",
       "      <td>-0.46</td>\n",
       "      <td>0.21</td>\n",
       "      <td>-0.10</td>\n",
       "      <td>0.04</td>\n",
       "    </tr>\n",
       "    <tr>\n",
       "      <th>6</th>\n",
       "      <td>1.4</td>\n",
       "      <td>646.24</td>\n",
       "      <td>-1.26</td>\n",
       "      <td>1.59</td>\n",
       "      <td>-2.00</td>\n",
       "      <td>2.52</td>\n",
       "    </tr>\n",
       "    <tr>\n",
       "      <th>7</th>\n",
       "      <td>1.6</td>\n",
       "      <td>646.56</td>\n",
       "      <td>-0.94</td>\n",
       "      <td>0.88</td>\n",
       "      <td>-0.83</td>\n",
       "      <td>0.78</td>\n",
       "    </tr>\n",
       "    <tr>\n",
       "      <th>8</th>\n",
       "      <td>2.7</td>\n",
       "      <td>648.32</td>\n",
       "      <td>0.82</td>\n",
       "      <td>0.67</td>\n",
       "      <td>0.55</td>\n",
       "      <td>0.45</td>\n",
       "    </tr>\n",
       "    <tr>\n",
       "      <th>9</th>\n",
       "      <td>2.0</td>\n",
       "      <td>647.20</td>\n",
       "      <td>-0.30</td>\n",
       "      <td>0.09</td>\n",
       "      <td>-0.03</td>\n",
       "      <td>0.01</td>\n",
       "    </tr>\n",
       "    <tr>\n",
       "      <th>10</th>\n",
       "      <td>2.5</td>\n",
       "      <td>648.00</td>\n",
       "      <td>0.50</td>\n",
       "      <td>0.25</td>\n",
       "      <td>0.12</td>\n",
       "      <td>0.06</td>\n",
       "    </tr>\n",
       "    <tr>\n",
       "      <th>11</th>\n",
       "      <td>2.4</td>\n",
       "      <td>647.84</td>\n",
       "      <td>0.34</td>\n",
       "      <td>0.12</td>\n",
       "      <td>0.04</td>\n",
       "      <td>0.01</td>\n",
       "    </tr>\n",
       "    <tr>\n",
       "      <th>12</th>\n",
       "      <td>3.2</td>\n",
       "      <td>649.12</td>\n",
       "      <td>1.62</td>\n",
       "      <td>2.62</td>\n",
       "      <td>4.25</td>\n",
       "      <td>6.89</td>\n",
       "    </tr>\n",
       "    <tr>\n",
       "      <th>13</th>\n",
       "      <td>2.2</td>\n",
       "      <td>647.52</td>\n",
       "      <td>0.02</td>\n",
       "      <td>0.00</td>\n",
       "      <td>0.00</td>\n",
       "      <td>0.00</td>\n",
       "    </tr>\n",
       "    <tr>\n",
       "      <th>14</th>\n",
       "      <td>2.6</td>\n",
       "      <td>648.16</td>\n",
       "      <td>0.66</td>\n",
       "      <td>0.44</td>\n",
       "      <td>0.29</td>\n",
       "      <td>0.19</td>\n",
       "    </tr>\n",
       "    <tr>\n",
       "      <th>15</th>\n",
       "      <td>2.7</td>\n",
       "      <td>648.32</td>\n",
       "      <td>0.82</td>\n",
       "      <td>0.67</td>\n",
       "      <td>0.55</td>\n",
       "      <td>0.45</td>\n",
       "    </tr>\n",
       "    <tr>\n",
       "      <th>16</th>\n",
       "      <td>1.6</td>\n",
       "      <td>646.56</td>\n",
       "      <td>-0.94</td>\n",
       "      <td>0.88</td>\n",
       "      <td>-0.83</td>\n",
       "      <td>0.78</td>\n",
       "    </tr>\n",
       "    <tr>\n",
       "      <th>17</th>\n",
       "      <td>2.3</td>\n",
       "      <td>647.68</td>\n",
       "      <td>0.18</td>\n",
       "      <td>0.03</td>\n",
       "      <td>0.01</td>\n",
       "      <td>0.00</td>\n",
       "    </tr>\n",
       "    <tr>\n",
       "      <th>18</th>\n",
       "      <td>2.4</td>\n",
       "      <td>647.84</td>\n",
       "      <td>0.34</td>\n",
       "      <td>0.12</td>\n",
       "      <td>0.04</td>\n",
       "      <td>0.01</td>\n",
       "    </tr>\n",
       "    <tr>\n",
       "      <th>19</th>\n",
       "      <td>1.3</td>\n",
       "      <td>646.08</td>\n",
       "      <td>-1.42</td>\n",
       "      <td>2.02</td>\n",
       "      <td>-2.86</td>\n",
       "      <td>4.07</td>\n",
       "    </tr>\n",
       "  </tbody>\n",
       "</table>\n",
       "</div>"
      ],
      "text/plain": [
       "     Ui     Rxi  Rxi-<R>  (Rxi-<R>)^2  (Rxi-<R>)^3  (Rxi-<R>)^4\n",
       "0   1.8  646.88    -0.62         0.38        -0.24         0.15\n",
       "1   1.8  646.88    -0.62         0.38        -0.24         0.15\n",
       "2   2.6  648.16     0.66         0.44         0.29         0.19\n",
       "3   3.3  649.28     1.78         3.17         5.64        10.04\n",
       "4   1.4  646.24    -1.26         1.59        -2.00         2.52\n",
       "5   1.9  647.04    -0.46         0.21        -0.10         0.04\n",
       "6   1.4  646.24    -1.26         1.59        -2.00         2.52\n",
       "7   1.6  646.56    -0.94         0.88        -0.83         0.78\n",
       "8   2.7  648.32     0.82         0.67         0.55         0.45\n",
       "9   2.0  647.20    -0.30         0.09        -0.03         0.01\n",
       "10  2.5  648.00     0.50         0.25         0.12         0.06\n",
       "11  2.4  647.84     0.34         0.12         0.04         0.01\n",
       "12  3.2  649.12     1.62         2.62         4.25         6.89\n",
       "13  2.2  647.52     0.02         0.00         0.00         0.00\n",
       "14  2.6  648.16     0.66         0.44         0.29         0.19\n",
       "15  2.7  648.32     0.82         0.67         0.55         0.45\n",
       "16  1.6  646.56    -0.94         0.88        -0.83         0.78\n",
       "17  2.3  647.68     0.18         0.03         0.01         0.00\n",
       "18  2.4  647.84     0.34         0.12         0.04         0.01\n",
       "19  1.3  646.08    -1.42         2.02        -2.86         4.07"
      ]
     },
     "execution_count": 31,
     "metadata": {},
     "output_type": "execute_result"
    }
   ],
   "source": [
    "df"
   ]
  },
  {
   "cell_type": "code",
   "execution_count": 36,
   "id": "066f3afe-dd11-4b84-8fb3-932deeb6d8fa",
   "metadata": {},
   "outputs": [
    {
     "data": {
      "text/plain": [
       "0.1325"
      ]
     },
     "execution_count": 36,
     "metadata": {},
     "output_type": "execute_result"
    }
   ],
   "source": [
    "np.mean(col_4)"
   ]
  },
  {
   "cell_type": "code",
   "execution_count": 35,
   "id": "a8268118-2072-431a-abdd-541fa336b137",
   "metadata": {},
   "outputs": [
    {
     "data": {
      "text/plain": [
       "1.4655"
      ]
     },
     "execution_count": 35,
     "metadata": {},
     "output_type": "execute_result"
    }
   ],
   "source": [
    "np.mean(col_5)"
   ]
  },
  {
   "cell_type": "code",
   "execution_count": 40,
   "id": "e8771358-0a6f-4175-b68d-9a05a7775d19",
   "metadata": {},
   "outputs": [
    {
     "data": {
      "text/plain": [
       "-0.8661634489766294"
      ]
     },
     "execution_count": 40,
     "metadata": {},
     "output_type": "execute_result"
    }
   ],
   "source": [
    "\n",
    "round(np.mean(col_5),2)/round(np.mean(col_3),2)**2 - 3"
   ]
  },
  {
   "cell_type": "code",
   "execution_count": 72,
   "id": "67c4910a-a077-4c0d-8794-0c59d74b62a0",
   "metadata": {},
   "outputs": [
    {
     "ename": "NameError",
     "evalue": "name 'bins' is not defined",
     "output_type": "error",
     "traceback": [
      "\u001b[1;31m---------------------------------------------------------------------------\u001b[0m",
      "\u001b[1;31mNameError\u001b[0m                                 Traceback (most recent call last)",
      "Cell \u001b[1;32mIn [72], line 1\u001b[0m\n\u001b[1;32m----> 1\u001b[0m np\u001b[38;5;241m.\u001b[39mhistogram(df[\u001b[38;5;124m'\u001b[39m\u001b[38;5;124mRxi\u001b[39m\u001b[38;5;124m'\u001b[39m]\u001b[38;5;241m.\u001b[39mtolist(),bins\u001b[38;5;241m=\u001b[39m\u001b[43mbins\u001b[49m)\u001b[38;5;241m.\u001b[39mbins\n",
      "\u001b[1;31mNameError\u001b[0m: name 'bins' is not defined"
     ]
    }
   ],
   "source": [
    "np.histogram(df['Rxi'].tolist(),bins=bins)"
   ]
  },
  {
   "cell_type": "code",
   "execution_count": 74,
   "id": "5ba902b9-9e2a-4e0c-99dc-988c2089db05",
   "metadata": {},
   "outputs": [
    {
     "data": {
      "text/plain": [
       "(array([5., 3., 3., 5., 2., 2.]),\n",
       " array([646.08      , 646.61333333, 647.14666667, 647.68      ,\n",
       "        648.21333333, 648.74666667, 649.28      ]),\n",
       " <BarContainer object of 6 artists>)"
      ]
     },
     "execution_count": 74,
     "metadata": {},
     "output_type": "execute_result"
    },
    {
     "data": {
      "image/png": "[encoded data removed]",
      "text/plain": [
       "<Figure size 640x480 with 1 Axes>"
      ]
     },
     "metadata": {},
     "output_type": "display_data"
    }
   ],
   "source": [
    "plt.hist(nR,bins='auto',edgecolor = 'black')"
   ]
  },
  {
   "cell_type": "code",
   "execution_count": 46,
   "id": "98372550-e4d2-43c1-8246-1c6fc12d6171",
   "metadata": {},
   "outputs": [
    {
     "data": {
      "text/plain": [
       "<Figure size 640x480 with 0 Axes>"
      ]
     },
     "metadata": {},
     "output_type": "display_data"
    }
   ],
   "source": [
    "plt.savefig(\"task_3.jpg\")"
   ]
  },
  {
   "cell_type": "code",
   "execution_count": 55,
   "id": "078b8dcb-da77-47be-84d0-383f666b3016",
   "metadata": {},
   "outputs": [],
   "source": [
    "U_c = [np.fabs(x-np.mean(U)**2) for x in U]"
   ]
  },
  {
   "cell_type": "code",
   "execution_count": 61,
   "id": "59688fb5-676b-4cca-ab16-78a36096d40a",
   "metadata": {},
   "outputs": [
    {
     "data": {
      "text/plain": [
       "2.1849999999999996"
      ]
     },
     "execution_count": 61,
     "metadata": {},
     "output_type": "execute_result"
    }
   ],
   "source": [
    "np.mean(U)"
   ]
  },
  {
   "cell_type": "code",
   "execution_count": 60,
   "id": "04d8377d-f27c-4597-8229-baaf179a4690",
   "metadata": {},
   "outputs": [
    {
     "data": {
      "text/plain": [
       "1.497996995991647"
      ]
     },
     "execution_count": 60,
     "metadata": {},
     "output_type": "execute_result"
    }
   ],
   "source": [
    "1.3 * np.sqrt(sum(U_c)/39)"
   ]
  },
  {
   "cell_type": "code",
   "execution_count": 62,
   "id": "64649600-01c1-4e0e-a981-911aa57867a8",
   "metadata": {},
   "outputs": [
    {
     "data": {
      "text/plain": [
       "0.684931506849315"
      ]
     },
     "execution_count": 62,
     "metadata": {},
     "output_type": "execute_result"
    }
   ],
   "source": [
    "1.5/2.19"
   ]
  },
  {
   "cell_type": "code",
   "execution_count": 63,
   "id": "98895e02-2584-45bd-89b0-672d079eda64",
   "metadata": {},
   "outputs": [
    {
     "data": {
      "text/plain": [
       "2.5"
      ]
     },
     "execution_count": 63,
     "metadata": {},
     "output_type": "execute_result"
    }
   ],
   "source": [
    "I"
   ]
  },
  {
   "cell_type": "code",
   "execution_count": 64,
   "id": "a4a4d587-1402-4f3f-9c70-f45263c81340",
   "metadata": {},
   "outputs": [
    {
     "data": {
      "text/plain": [
       "0.025"
      ]
     },
     "execution_count": 64,
     "metadata": {},
     "output_type": "execute_result"
    }
   ],
   "source": [
    "2.5/100"
   ]
  },
  {
   "cell_type": "code",
   "execution_count": 65,
   "id": "0160e53e-3e97-4872-89c9-6694a5a76556",
   "metadata": {},
   "outputs": [
    {
     "data": {
      "text/plain": [
       "0.6906518659932802"
      ]
     },
     "execution_count": 65,
     "metadata": {},
     "output_type": "execute_result"
    }
   ],
   "source": [
    "np.sqrt(0.03**2+0.69**2)"
   ]
  },
  {
   "cell_type": "code",
   "execution_count": 68,
   "id": "fad18076-748e-4455-b396-755b87c33781",
   "metadata": {},
   "outputs": [
    {
     "data": {
      "text/plain": [
       "0.8497058314499201"
      ]
     },
     "execution_count": 68,
     "metadata": {},
     "output_type": "execute_result"
    }
   ],
   "source": [
    "np.sqrt(0.38**2+2**2*0.38**2)"
   ]
  },
  {
   "cell_type": "code",
   "execution_count": 69,
   "id": "fdd4acfa-262c-4d1c-90ae-afeb97975fe2",
   "metadata": {},
   "outputs": [
    {
     "data": {
      "text/plain": [
       "647.5999999999999"
      ]
     },
     "execution_count": 69,
     "metadata": {},
     "output_type": "execute_result"
    }
   ],
   "source": [
    "np.median(R)"
   ]
  },
  {
   "cell_type": "code",
   "execution_count": 70,
   "id": "761b948c-52f8-4650-90a0-537202f533ff",
   "metadata": {},
   "outputs": [
    {
     "data": {
      "text/plain": [
       "649.28"
      ]
     },
     "execution_count": 70,
     "metadata": {},
     "output_type": "execute_result"
    }
   ],
   "source": [
    "max(R)"
   ]
  },
  {
   "cell_type": "code",
   "execution_count": 71,
   "id": "5cb1316f-31cb-4efd-8013-306eb3a4fa28",
   "metadata": {},
   "outputs": [
    {
     "data": {
      "text/plain": [
       "646.08"
      ]
     },
     "execution_count": 71,
     "metadata": {},
     "output_type": "execute_result"
    }
   ],
   "source": [
    "min(R)"
   ]
  },
  {
   "cell_type": "code",
   "execution_count": null,
   "id": "6433e692-5814-4a6c-a671-e95a17b7822e",
   "metadata": {},
   "outputs": [],
   "source": []
  }
 ],
 "metadata": {
  "kernelspec": {
   "display_name": "Python 3 (ipykernel)",
   "language": "python",
   "name": "python3"
  },
  "language_info": {
   "codemirror_mode": {
    "name": "ipython",
    "version": 3
   },
   "file_extension": ".py",
   "mimetype": "text/x-python",
   "name": "python",
   "nbconvert_exporter": "python",
   "pygments_lexer": "ipython3",
   "version": "3.9.4"
  }
 },
 "nbformat": 4,
 "nbformat_minor": 5
}
