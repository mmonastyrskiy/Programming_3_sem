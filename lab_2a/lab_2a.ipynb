{
 "cells": [
  {
   "cell_type": "code",
   "execution_count": null,
   "id": "fd1668e9-556e-47bb-8482-92ff919aeb95",
   "metadata": {},
   "outputs": [],
   "source": []
  },
  {
   "cell_type": "code",
   "execution_count": 6,
   "id": "252e7d85-431c-49af-9e6a-5df4f6383f88",
   "metadata": {},
   "outputs": [],
   "source": [
    "import numpy as np\n",
    "import pandas as pd\n",
    "from matplotlib import pyplot as plt\n"
   ]
  },
  {
   "cell_type": "code",
   "execution_count": 70,
   "id": "074276b1-e4f4-4256-8eb5-217e5d3bdf9f",
   "metadata": {},
   "outputs": [],
   "source": [
    "U =[1.8,\n",
    "   1.8,\n",
    "   2.6,\n",
    "   3.3,\n",
    "   1.4,\n",
    "   1.9,\n",
    "   1.4,\n",
    "   1.6,\n",
    "   2.7,\n",
    "   2,\n",
    "   2.5,\n",
    "    2.4,\n",
    "   3.2,\n",
    "   2.2,\n",
    "   2.6,\n",
    "   2.7,\n",
    "   1.6,\n",
    "   2.3,\n",
    "   2.4,\n",
    "   1.3]"
   ]
  },
  {
   "cell_type": "code",
   "execution_count": 71,
   "id": "d8e438a3-e6bc-435e-b7b4-2d919fc8cbd8",
   "metadata": {},
   "outputs": [],
   "source": [
    "I = 2.5e-3\n",
    "R =[x/I for x in U]"
   ]
  },
  {
   "cell_type": "code",
   "execution_count": 72,
   "id": "032df242-1523-4e6a-ad31-26f9b1c59f4c",
   "metadata": {},
   "outputs": [
    {
     "data": {
      "text/plain": [
       "[720.0,\n",
       " 720.0,\n",
       " 1040.0,\n",
       " 1320.0,\n",
       " 560.0,\n",
       " 760.0,\n",
       " 560.0,\n",
       " 640.0,\n",
       " 1080.0,\n",
       " 800.0,\n",
       " 1000.0,\n",
       " 960.0,\n",
       " 1280.0,\n",
       " 880.0,\n",
       " 1040.0,\n",
       " 1080.0,\n",
       " 640.0,\n",
       " 919.9999999999999,\n",
       " 960.0,\n",
       " 520.0]"
      ]
     },
     "execution_count": 72,
     "metadata": {},
     "output_type": "execute_result"
    }
   ],
   "source": [
    "R"
   ]
  },
  {
   "cell_type": "code",
   "execution_count": 56,
   "id": "aecf3bd0-a7d0-49e3-8cf3-8a343505d82f",
   "metadata": {},
   "outputs": [],
   "source": [
    "nR = numpy.array(R)\n"
   ]
  },
  {
   "cell_type": "code",
   "execution_count": 73,
   "id": "2022e96e-a3ce-4bb7-98ef-70ab29222ffe",
   "metadata": {},
   "outputs": [],
   "source": [
    "mean_R = np.mean(nR)"
   ]
  },
  {
   "cell_type": "code",
   "execution_count": 74,
   "id": "15fc5f11-bd81-4c90-88a9-1e2b036ca912",
   "metadata": {},
   "outputs": [],
   "source": [
    "col_2 =[x - mean_R for x in R]\n"
   ]
  },
  {
   "cell_type": "code",
   "execution_count": 36,
   "id": "2ffce306-9c37-417b-bef7-a1d0a8a8deba",
   "metadata": {},
   "outputs": [
    {
     "data": {
      "text/plain": [
       "892.6315789473684"
      ]
     },
     "execution_count": 36,
     "metadata": {},
     "output_type": "execute_result"
    }
   ],
   "source": [
    "mean_R"
   ]
  },
  {
   "cell_type": "code",
   "execution_count": null,
   "id": "24f49c65-c75c-4f71-9eac-a4e8be2cccd4",
   "metadata": {},
   "outputs": [],
   "source": []
  },
  {
   "cell_type": "code",
   "execution_count": 75,
   "id": "bed71a51-dbcd-46ea-b16b-b928efa43667",
   "metadata": {},
   "outputs": [],
   "source": [
    "col_3 =[(x - mean_R)**2 for x in R]\n"
   ]
  },
  {
   "cell_type": "code",
   "execution_count": null,
   "id": "e04e7a9b-c308-4eeb-bf95-d8b227db8b41",
   "metadata": {},
   "outputs": [],
   "source": []
  },
  {
   "cell_type": "code",
   "execution_count": 76,
   "id": "31c1ce90-2aea-4345-939a-7a9849ef9a10",
   "metadata": {},
   "outputs": [],
   "source": [
    "col_4 =[(x - mean_R)**3 for x in R]\n"
   ]
  },
  {
   "cell_type": "code",
   "execution_count": null,
   "id": "d02e3dc9-11ff-43f6-8493-d00ff3ec9948",
   "metadata": {},
   "outputs": [],
   "source": []
  },
  {
   "cell_type": "code",
   "execution_count": 77,
   "id": "c2546e89-47a9-41d8-a91f-5a407bdca4a7",
   "metadata": {},
   "outputs": [],
   "source": [
    "col_5 =[(x - mean_R)**4 for x in R]\n"
   ]
  },
  {
   "cell_type": "code",
   "execution_count": 78,
   "id": "6dff49da-af36-4ece-8568-eff79c9ed72e",
   "metadata": {},
   "outputs": [],
   "source": [
    "df = pd.DataFrame(\n",
    "    {'Ui':U,\n",
    "    'Rxi':R,\n",
    "    'Rxi-<R>':col_2,\n",
    "    '(Rxi-<R>)^2':col_3,\n",
    "    '(Rxi-<R>)^3':col_4,\n",
    "    '(Rxi-<R>)^4':col_5}\n",
    ")\n"
   ]
  },
  {
   "cell_type": "code",
   "execution_count": 79,
   "id": "8f69ec46-82f4-443e-afd0-b4d367562be1",
   "metadata": {},
   "outputs": [],
   "source": []
  },
  {
   "cell_type": "code",
   "execution_count": 84,
   "id": "066f3afe-dd11-4b84-8fb3-932deeb6d8fa",
   "metadata": {},
   "outputs": [
    {
     "data": {
      "text/plain": [
       "520.0"
      ]
     },
     "execution_count": 84,
     "metadata": {},
     "output_type": "execute_result"
    }
   ],
   "source": []
  },
  {
   "cell_type": "code",
   "execution_count": 82,
   "id": "a8268118-2072-431a-abdd-541fa336b137",
   "metadata": {},
   "outputs": [
    {
     "data": {
      "text/plain": [
       "89.0"
      ]
     },
     "execution_count": 82,
     "metadata": {},
     "output_type": "execute_result"
    }
   ],
   "source": []
  },
  {
   "cell_type": "code",
   "execution_count": 85,
   "id": "e8771358-0a6f-4175-b68d-9a05a7775d19",
   "metadata": {},
   "outputs": [],
   "source": []
  },
  {
   "cell_type": "code",
   "execution_count": 87,
   "id": "67c4910a-a077-4c0d-8794-0c59d74b62a0",
   "metadata": {},
   "outputs": [
    {
     "data": {
      "text/plain": [
       "(array([3, 0, 2, 0, 3, 0, 1, 0, 4, 0, 3, 0, 2, 0, 0, 0, 2], dtype=int64),\n",
       " array([ 520.,  609.,  610.,  699.,  700.,  789.,  790.,  879.,  880.,\n",
       "         969.,  970., 1059., 1060., 1149., 1150., 1239., 1240., 1329.]))"
      ]
     },
     "execution_count": 87,
     "metadata": {},
     "output_type": "execute_result"
    }
   ],
   "source": [
    "np.histogram(df['Rxi'].tolist(),bins=bins)"
   ]
  },
  {
   "cell_type": "code",
   "execution_count": 89,
   "id": "5ba902b9-9e2a-4e0c-99dc-988c2089db05",
   "metadata": {},
   "outputs": [
    {
     "data": {
      "text/plain": [
       "(array([4., 4., 2., 5., 2., 2.]),\n",
       " array([ 560.        ,  686.66666667,  813.33333333,  940.        ,\n",
       "        1066.66666667, 1193.33333333, 1320.        ]),\n",
       " <BarContainer object of 6 artists>)"
      ]
     },
     "execution_count": 89,
     "metadata": {},
     "output_type": "execute_result"
    },
    {
     "data": {
      "image/png": "[encoded data removed]",
      "text/plain": [
       "<Figure size 640x480 with 1 Axes>"
      ]
     },
     "metadata": {},
     "output_type": "display_data"
    }
   ],
   "source": [
    "plt.hist(nR,bins='auto')"
   ]
  },
  {
   "cell_type": "code",
   "execution_count": 90,
   "id": "98372550-e4d2-43c1-8246-1c6fc12d6171",
   "metadata": {},
   "outputs": [
    {
     "data": {
      "text/plain": [
       "<Figure size 640x480 with 0 Axes>"
      ]
     },
     "metadata": {},
     "output_type": "display_data"
    }
   ],
   "source": [
    "plt.savefig(\"task_3.png\")"
   ]
  },
  {
   "cell_type": "code",
   "execution_count": null,
   "id": "078b8dcb-da77-47be-84d0-383f666b3016",
   "metadata": {},
   "outputs": [],
   "source": []
  }
 ],
 "metadata": {
  "kernelspec": {
   "display_name": "Python 3 (ipykernel)",
   "language": "python",
   "name": "python3"
  },
  "language_info": {
   "codemirror_mode": {
    "name": "ipython",
    "version": 3
   },
   "file_extension": ".py",
   "mimetype": "text/x-python",
   "name": "python",
   "nbconvert_exporter": "python",
   "pygments_lexer": "ipython3",
   "version": "3.9.4"
  }
 },
 "nbformat": 4,
 "nbformat_minor": 5
}
